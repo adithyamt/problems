{
 "cells": [
  {
   "cell_type": "code",
   "execution_count": 8,
   "metadata": {},
   "outputs": [
    {
     "name": "stdout",
     "output_type": "stream",
     "text": [
      "select any one of these four choice\n",
      "1.adition\n",
      "2.substrction\n",
      "3.multiplication\n",
      "4.division\n",
      "your choice: 1\n",
      "enter your first value: 1\n",
      "enter your second value: 1\n",
      "a + b =  2\n"
     ]
    }
   ],
   "source": [
    "def add(a,b):\n",
    "    return a+b\n",
    "def sub(a,b):\n",
    "    return a-b\n",
    "def mul(a,b):\n",
    "    return a*b\n",
    "def div(a,b):\n",
    "    return a/b\n",
    "\n",
    "print(\"select any one of these four choice\")\n",
    "print('1.adition')\n",
    "print('2.substrction')\n",
    "print('3.multiplication')\n",
    "print('4.division')\n",
    "\n",
    "\n",
    "choice=int(input(\"your choice: \"))\n",
    "       \n",
    "   \n",
    "a=int(input(\"enter your first value: \"))\n",
    "b=int(input(\"enter your second value: \"))\n",
    "    \n",
    "    \n",
    "if choice==1:\n",
    "    print(\"a + b = \", add(a,b))\n",
    "    \n",
    "elif choice==2:\n",
    "    print(\"a - b = \",sub(a,b))\n",
    "        \n",
    "elif choice==3:\n",
    "    print(\"a * b = \",mul(a,b))\n",
    "     \n",
    "elif choice==4:\n",
    "    print(\"a / b = \",div(a,b))\n",
    "           \n",
    "else:\n",
    "    print(\"please choose a correct input\")"
   ]
  },
  {
   "cell_type": "code",
   "execution_count": null,
   "metadata": {},
   "outputs": [],
   "source": []
  },
  {
   "cell_type": "code",
   "execution_count": null,
   "metadata": {},
   "outputs": [],
   "source": []
  }
 ],
 "metadata": {
  "kernelspec": {
   "display_name": "Python 3",
   "language": "python",
   "name": "python3"
  },
  "language_info": {
   "codemirror_mode": {
    "name": "ipython",
    "version": 3
   },
   "file_extension": ".py",
   "mimetype": "text/x-python",
   "name": "python",
   "nbconvert_exporter": "python",
   "pygments_lexer": "ipython3",
   "version": "3.8.3"
  }
 },
 "nbformat": 4,
 "nbformat_minor": 4
}
