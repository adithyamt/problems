{
 "cells": [
  {
   "cell_type": "markdown",
   "metadata": {},
   "source": [
    "Both players are given the same string.\n",
    "Both players have to make substrings using the letters of the string .\n",
    "Stuart has to make words starting with consonants.\n",
    "Kevin has to make words starting with vowels.\n",
    "The game ends when both players have made all possible substrings."
   ]
  },
  {
   "cell_type": "code",
   "execution_count": 3,
   "metadata": {},
   "outputs": [
    {
     "name": "stdout",
     "output_type": "stream",
     "text": [
      "banana\n",
      "Stuart 21\n"
     ]
    }
   ],
   "source": [
    "s = input()\n",
    "\n",
    "vowels = 'aeiou'\n",
    "\n",
    "Kevin = 0\n",
    "Stuart = 0\n",
    "for i in range(len(s)):\n",
    "    if s[i] in vowels:\n",
    "        Kevin += (len(s)-i)\n",
    "    else:\n",
    "        Stuart += (len(s)-i)\n",
    "\n",
    "if kevsc > stusc:\n",
    "    print (\"Kevin\", Kevin)\n",
    "elif kevsc < stusc:\n",
    "    print (\"Stuart\", Stuart)\n",
    "else:\n",
    "    print (\"Draw\")"
   ]
  },
  {
   "cell_type": "code",
   "execution_count": null,
   "metadata": {},
   "outputs": [],
   "source": []
  }
 ],
 "metadata": {
  "kernelspec": {
   "display_name": "Python 3",
   "language": "python",
   "name": "python3"
  },
  "language_info": {
   "codemirror_mode": {
    "name": "ipython",
    "version": 3
   },
   "file_extension": ".py",
   "mimetype": "text/x-python",
   "name": "python",
   "nbconvert_exporter": "python",
   "pygments_lexer": "ipython3",
   "version": "3.8.3"
  }
 },
 "nbformat": 4,
 "nbformat_minor": 4
}
