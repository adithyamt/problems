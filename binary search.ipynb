{
 "cells": [
  {
   "cell_type": "code",
   "execution_count": null,
   "metadata": {},
   "outputs": [],
   "source": [
    "# write a program for binary search"
   ]
  },
  {
   "cell_type": "code",
   "execution_count": 2,
   "metadata": {},
   "outputs": [
    {
     "name": "stdout",
     "output_type": "stream",
     "text": [
      "found at position 5\n"
     ]
    }
   ],
   "source": [
    "position=-1\n",
    "def search(lst,a):\n",
    "    l=0\n",
    "    u=len(lst)-1\n",
    "    while l<=u:\n",
    "        mid=(l+u)//2\n",
    "        globals()['position']=mid\n",
    "        if lst[mid]==a:\n",
    "            return True\n",
    "        else:\n",
    "            if lst[mid]<a:\n",
    "                l=mid\n",
    "            else:\n",
    "                u=mid\n",
    "                \n",
    "lst=[2,3,4,5,6,7,8]\n",
    "a=7\n",
    "if search(lst,a):\n",
    "    print(\"found at position\",position)\n",
    "else:\n",
    "    print(\"not found\")"
   ]
  },
  {
   "cell_type": "code",
   "execution_count": null,
   "metadata": {},
   "outputs": [],
   "source": []
  }
 ],
 "metadata": {
  "kernelspec": {
   "display_name": "Python 3",
   "language": "python",
   "name": "python3"
  },
  "language_info": {
   "codemirror_mode": {
    "name": "ipython",
    "version": 3
   },
   "file_extension": ".py",
   "mimetype": "text/x-python",
   "name": "python",
   "nbconvert_exporter": "python",
   "pygments_lexer": "ipython3",
   "version": "3.8.3"
  }
 },
 "nbformat": 4,
 "nbformat_minor": 4
}
