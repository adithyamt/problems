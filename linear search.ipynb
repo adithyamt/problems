{
 "cells": [
  {
   "cell_type": "code",
   "execution_count": 1,
   "metadata": {},
   "outputs": [],
   "source": [
    "# write a program for linear search"
   ]
  },
  {
   "cell_type": "code",
   "execution_count": 3,
   "metadata": {},
   "outputs": [
    {
     "name": "stdout",
     "output_type": "stream",
     "text": [
      "found at position 2\n"
     ]
    }
   ],
   "source": [
    "position=-1\n",
    "def search(list,a):\n",
    "    i=0\n",
    "    while i<len(lst):\n",
    "        if lst[i]==a:\n",
    "            globals()['position']=i\n",
    "            return True\n",
    "        i+=1\n",
    "    return False\n",
    "lst=[2,4,3,6,5,9,8]\n",
    "a=3\n",
    "if search(lst,a):\n",
    "    print(\"found at position\",position)\n",
    "else:\n",
    "    print(\" not found\")"
   ]
  },
  {
   "cell_type": "code",
   "execution_count": null,
   "metadata": {},
   "outputs": [],
   "source": []
  }
 ],
 "metadata": {
  "kernelspec": {
   "display_name": "Python 3",
   "language": "python",
   "name": "python3"
  },
  "language_info": {
   "codemirror_mode": {
    "name": "ipython",
    "version": 3
   },
   "file_extension": ".py",
   "mimetype": "text/x-python",
   "name": "python",
   "nbconvert_exporter": "python",
   "pygments_lexer": "ipython3",
   "version": "3.8.3"
  }
 },
 "nbformat": 4,
 "nbformat_minor": 4
}
